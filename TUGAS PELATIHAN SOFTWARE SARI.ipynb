{
 "cells": [
  {
   "cell_type": "code",
   "execution_count": 1,
   "id": "5e660047",
   "metadata": {},
   "outputs": [
    {
     "ename": "ModuleNotFoundError",
     "evalue": "No module named 'panda'",
     "output_type": "error",
     "traceback": [
      "\u001b[1;31m---------------------------------------------------------------------------\u001b[0m",
      "\u001b[1;31mModuleNotFoundError\u001b[0m                       Traceback (most recent call last)",
      "\u001b[1;32m~\\AppData\\Local\\Temp\\ipykernel_18420\\1585780535.py\u001b[0m in \u001b[0;36m<module>\u001b[1;34m\u001b[0m\n\u001b[1;32m----> 1\u001b[1;33m \u001b[1;32mimport\u001b[0m \u001b[0mpanda\u001b[0m \u001b[1;32mas\u001b[0m \u001b[0mpd\u001b[0m\u001b[1;33m\u001b[0m\u001b[1;33m\u001b[0m\u001b[0m\n\u001b[0m",
      "\u001b[1;31mModuleNotFoundError\u001b[0m: No module named 'panda'"
     ]
    }
   ],
   "source": [
    "import panda as pd "
   ]
  },
  {
   "cell_type": "code",
   "execution_count": 2,
   "id": "af65e0a6",
   "metadata": {},
   "outputs": [
    {
     "ename": "ModuleNotFoundError",
     "evalue": "No module named 'panda'",
     "output_type": "error",
     "traceback": [
      "\u001b[1;31m---------------------------------------------------------------------------\u001b[0m",
      "\u001b[1;31mModuleNotFoundError\u001b[0m                       Traceback (most recent call last)",
      "\u001b[1;32m~\\AppData\\Local\\Temp\\ipykernel_18420\\2301504525.py\u001b[0m in \u001b[0;36m<module>\u001b[1;34m\u001b[0m\n\u001b[1;32m----> 1\u001b[1;33m \u001b[1;32mimport\u001b[0m \u001b[0mpanda\u001b[0m \u001b[1;32mas\u001b[0m \u001b[0mpd\u001b[0m\u001b[1;33m\u001b[0m\u001b[1;33m\u001b[0m\u001b[0m\n\u001b[0m\u001b[0;32m      2\u001b[0m \u001b[0mdata\u001b[0m \u001b[1;33m=\u001b[0m \u001b[0mpd\u001b[0m\u001b[1;33m.\u001b[0m\u001b[0mread_csv\u001b[0m\u001b[1;33m(\u001b[0m\u001b[1;34m'https://raw.githubusercontent.com/imdwipayana/Python-Project-2023/20a37340eb897bd856ca8407b370691c1c8d7780/Presentasi/deposito.csv'\u001b[0m\u001b[1;33m)\u001b[0m\u001b[1;33m\u001b[0m\u001b[1;33m\u001b[0m\u001b[0m\n\u001b[0;32m      3\u001b[0m \u001b[0mdata\u001b[0m\u001b[1;33m.\u001b[0m\u001b[0mhead\u001b[0m\u001b[1;33m(\u001b[0m\u001b[1;33m)\u001b[0m\u001b[1;33m\u001b[0m\u001b[1;33m\u001b[0m\u001b[0m\n",
      "\u001b[1;31mModuleNotFoundError\u001b[0m: No module named 'panda'"
     ]
    }
   ],
   "source": [
    "import panda as pd\n",
    "data = pd.read_csv('https://raw.githubusercontent.com/imdwipayana/Python-Project-2023/20a37340eb897bd856ca8407b370691c1c8d7780/Presentasi/deposito.csv')\n",
    "data.head()"
   ]
  },
  {
   "cell_type": "code",
   "execution_count": 3,
   "id": "8aaea737",
   "metadata": {},
   "outputs": [],
   "source": [
    "import pandas as pd"
   ]
  },
  {
   "cell_type": "code",
   "execution_count": 4,
   "id": "974467f9",
   "metadata": {},
   "outputs": [
    {
     "data": {
      "text/html": [
       "<div>\n",
       "<style scoped>\n",
       "    .dataframe tbody tr th:only-of-type {\n",
       "        vertical-align: middle;\n",
       "    }\n",
       "\n",
       "    .dataframe tbody tr th {\n",
       "        vertical-align: top;\n",
       "    }\n",
       "\n",
       "    .dataframe thead th {\n",
       "        text-align: right;\n",
       "    }\n",
       "</style>\n",
       "<table border=\"1\" class=\"dataframe\">\n",
       "  <thead>\n",
       "    <tr style=\"text-align: right;\">\n",
       "      <th></th>\n",
       "      <th>UMUR</th>\n",
       "      <th>PEKERJAAN</th>\n",
       "      <th>STATUS_PERKAWINAN</th>\n",
       "      <th>PENDIDIKAN</th>\n",
       "      <th>KREDIT_RUMAH</th>\n",
       "      <th>PINJAMAN</th>\n",
       "      <th>MENGHUBUNGI_DENGAN</th>\n",
       "      <th>LAMA_BICARA</th>\n",
       "      <th>JUMLAH_KONTAK_SEKARANG</th>\n",
       "      <th>JUMLAH_KONTAK_SEBELUMNYA</th>\n",
       "      <th>HASIL_SEBELUMNYA</th>\n",
       "      <th>DEPOSITO</th>\n",
       "    </tr>\n",
       "  </thead>\n",
       "  <tbody>\n",
       "    <tr>\n",
       "      <th>0</th>\n",
       "      <td>37</td>\n",
       "      <td>wiraswasta</td>\n",
       "      <td>menikah</td>\n",
       "      <td>lulus universitas</td>\n",
       "      <td>tidak</td>\n",
       "      <td>tidak ada</td>\n",
       "      <td>telepon rumah</td>\n",
       "      <td>202</td>\n",
       "      <td>2</td>\n",
       "      <td>1</td>\n",
       "      <td>gagal</td>\n",
       "      <td>belum</td>\n",
       "    </tr>\n",
       "    <tr>\n",
       "      <th>1</th>\n",
       "      <td>34</td>\n",
       "      <td>administrasi</td>\n",
       "      <td>lajang</td>\n",
       "      <td>lulus universitas</td>\n",
       "      <td>tidak</td>\n",
       "      <td>ada</td>\n",
       "      <td>HP</td>\n",
       "      <td>288</td>\n",
       "      <td>2</td>\n",
       "      <td>1</td>\n",
       "      <td>sukses</td>\n",
       "      <td>sukses</td>\n",
       "    </tr>\n",
       "    <tr>\n",
       "      <th>2</th>\n",
       "      <td>55</td>\n",
       "      <td>pengangguran</td>\n",
       "      <td>cerai</td>\n",
       "      <td>lulus universitas</td>\n",
       "      <td>tidak</td>\n",
       "      <td>tidak ada</td>\n",
       "      <td>HP</td>\n",
       "      <td>212</td>\n",
       "      <td>3</td>\n",
       "      <td>3</td>\n",
       "      <td>sukses</td>\n",
       "      <td>sukses</td>\n",
       "    </tr>\n",
       "    <tr>\n",
       "      <th>3</th>\n",
       "      <td>33</td>\n",
       "      <td>buruh</td>\n",
       "      <td>lajang</td>\n",
       "      <td>tidak lulus SD</td>\n",
       "      <td>ya</td>\n",
       "      <td>tidak ada</td>\n",
       "      <td>HP</td>\n",
       "      <td>146</td>\n",
       "      <td>1</td>\n",
       "      <td>1</td>\n",
       "      <td>gagal</td>\n",
       "      <td>belum</td>\n",
       "    </tr>\n",
       "    <tr>\n",
       "      <th>4</th>\n",
       "      <td>46</td>\n",
       "      <td>administrasi</td>\n",
       "      <td>lajang</td>\n",
       "      <td>lulus universitas</td>\n",
       "      <td>ya</td>\n",
       "      <td>tidak ada</td>\n",
       "      <td>HP</td>\n",
       "      <td>1166</td>\n",
       "      <td>3</td>\n",
       "      <td>1</td>\n",
       "      <td>gagal</td>\n",
       "      <td>belum</td>\n",
       "    </tr>\n",
       "  </tbody>\n",
       "</table>\n",
       "</div>"
      ],
      "text/plain": [
       "   UMUR     PEKERJAAN STATUS_PERKAWINAN         PENDIDIKAN KREDIT_RUMAH  \\\n",
       "0    37    wiraswasta           menikah  lulus universitas        tidak   \n",
       "1    34  administrasi            lajang  lulus universitas        tidak   \n",
       "2    55  pengangguran             cerai  lulus universitas        tidak   \n",
       "3    33         buruh            lajang     tidak lulus SD           ya   \n",
       "4    46  administrasi            lajang  lulus universitas           ya   \n",
       "\n",
       "    PINJAMAN MENGHUBUNGI_DENGAN  LAMA_BICARA  JUMLAH_KONTAK_SEKARANG  \\\n",
       "0  tidak ada      telepon rumah          202                       2   \n",
       "1        ada                 HP          288                       2   \n",
       "2  tidak ada                 HP          212                       3   \n",
       "3  tidak ada                 HP          146                       1   \n",
       "4  tidak ada                 HP         1166                       3   \n",
       "\n",
       "   JUMLAH_KONTAK_SEBELUMNYA HASIL_SEBELUMNYA DEPOSITO  \n",
       "0                         1            gagal    belum  \n",
       "1                         1           sukses   sukses  \n",
       "2                         3           sukses   sukses  \n",
       "3                         1            gagal    belum  \n",
       "4                         1            gagal    belum  "
      ]
     },
     "execution_count": 4,
     "metadata": {},
     "output_type": "execute_result"
    }
   ],
   "source": [
    "data = pd.read_csv('https://raw.githubusercontent.com/imdwipayana/Python-Project-2023/20a37340eb897bd856ca8407b370691c1c8d7780/Presentasi/deposito.csv')\n",
    "data.head()"
   ]
  },
  {
   "cell_type": "code",
   "execution_count": 5,
   "id": "eb1cc233",
   "metadata": {},
   "outputs": [
    {
     "data": {
      "text/html": [
       "<div>\n",
       "<style scoped>\n",
       "    .dataframe tbody tr th:only-of-type {\n",
       "        vertical-align: middle;\n",
       "    }\n",
       "\n",
       "    .dataframe tbody tr th {\n",
       "        vertical-align: top;\n",
       "    }\n",
       "\n",
       "    .dataframe thead th {\n",
       "        text-align: right;\n",
       "    }\n",
       "</style>\n",
       "<table border=\"1\" class=\"dataframe\">\n",
       "  <thead>\n",
       "    <tr style=\"text-align: right;\">\n",
       "      <th></th>\n",
       "      <th>IDENTITAS</th>\n",
       "      <th>UMUR</th>\n",
       "      <th>JENIS_KELAMIN</th>\n",
       "      <th>PENGALAMAN_MENGEMUDI</th>\n",
       "      <th>PENDIDIKAN</th>\n",
       "      <th>PENGHASILAN</th>\n",
       "      <th>SKOR_KREDIT</th>\n",
       "      <th>PEMILIK_KENDARAAN</th>\n",
       "      <th>TAHUN_PRODUKSI</th>\n",
       "      <th>STATUS</th>\n",
       "      <th>ANAK</th>\n",
       "      <th>KODE_POS</th>\n",
       "      <th>KM_PER_TAHUN</th>\n",
       "      <th>JENIS_KENDARAAN</th>\n",
       "      <th>TILANG_NGEBUT</th>\n",
       "      <th>TILANG_MABUK</th>\n",
       "      <th>KECELAKAAN_SEBELUMNYA</th>\n",
       "      <th>KLAIM</th>\n",
       "    </tr>\n",
       "  </thead>\n",
       "  <tbody>\n",
       "    <tr>\n",
       "      <th>0</th>\n",
       "      <td>569520</td>\n",
       "      <td>lebih dari 65 tahun</td>\n",
       "      <td>perempuan</td>\n",
       "      <td>kurang dari 10 tahun</td>\n",
       "      <td>SMA</td>\n",
       "      <td>lebih dari 3x UMR</td>\n",
       "      <td>0.629027</td>\n",
       "      <td>ya</td>\n",
       "      <td>setelah 2020</td>\n",
       "      <td>belum menikah</td>\n",
       "      <td>ada</td>\n",
       "      <td>10238</td>\n",
       "      <td>12000.0</td>\n",
       "      <td>keluarga</td>\n",
       "      <td>0</td>\n",
       "      <td>0</td>\n",
       "      <td>0</td>\n",
       "      <td>tidak</td>\n",
       "    </tr>\n",
       "    <tr>\n",
       "      <th>1</th>\n",
       "      <td>750365</td>\n",
       "      <td>kurang dari 25 tahun</td>\n",
       "      <td>laki-laki</td>\n",
       "      <td>kurang dari 10 tahun</td>\n",
       "      <td>tidak ada</td>\n",
       "      <td>kurang dari UMR</td>\n",
       "      <td>0.357757</td>\n",
       "      <td>tidak</td>\n",
       "      <td>sebelum 2020</td>\n",
       "      <td>belum menikah</td>\n",
       "      <td>tidak ada</td>\n",
       "      <td>10238</td>\n",
       "      <td>16000.0</td>\n",
       "      <td>keluarga</td>\n",
       "      <td>0</td>\n",
       "      <td>0</td>\n",
       "      <td>0</td>\n",
       "      <td>ya</td>\n",
       "    </tr>\n",
       "    <tr>\n",
       "      <th>2</th>\n",
       "      <td>199901</td>\n",
       "      <td>kurang dari 25 tahun</td>\n",
       "      <td>perempuan</td>\n",
       "      <td>kurang dari 10 tahun</td>\n",
       "      <td>SMA</td>\n",
       "      <td>antara 1-2x UMR</td>\n",
       "      <td>0.493146</td>\n",
       "      <td>ya</td>\n",
       "      <td>sebelum 2020</td>\n",
       "      <td>belum menikah</td>\n",
       "      <td>tidak ada</td>\n",
       "      <td>10238</td>\n",
       "      <td>11000.0</td>\n",
       "      <td>keluarga</td>\n",
       "      <td>0</td>\n",
       "      <td>0</td>\n",
       "      <td>0</td>\n",
       "      <td>tidak</td>\n",
       "    </tr>\n",
       "    <tr>\n",
       "      <th>3</th>\n",
       "      <td>478866</td>\n",
       "      <td>kurang dari 25 tahun</td>\n",
       "      <td>laki-laki</td>\n",
       "      <td>kurang dari 10 tahun</td>\n",
       "      <td>universitas</td>\n",
       "      <td>antara 1-2x UMR</td>\n",
       "      <td>0.206013</td>\n",
       "      <td>ya</td>\n",
       "      <td>sebelum 2020</td>\n",
       "      <td>belum menikah</td>\n",
       "      <td>ada</td>\n",
       "      <td>32765</td>\n",
       "      <td>11000.0</td>\n",
       "      <td>keluarga</td>\n",
       "      <td>0</td>\n",
       "      <td>0</td>\n",
       "      <td>0</td>\n",
       "      <td>tidak</td>\n",
       "    </tr>\n",
       "    <tr>\n",
       "      <th>4</th>\n",
       "      <td>731664</td>\n",
       "      <td>antara 25-40 tahun</td>\n",
       "      <td>laki-laki</td>\n",
       "      <td>antara 10-20 tahun</td>\n",
       "      <td>tidak ada</td>\n",
       "      <td>antara 1-2x UMR</td>\n",
       "      <td>0.388366</td>\n",
       "      <td>ya</td>\n",
       "      <td>sebelum 2020</td>\n",
       "      <td>belum menikah</td>\n",
       "      <td>tidak ada</td>\n",
       "      <td>32765</td>\n",
       "      <td>12000.0</td>\n",
       "      <td>keluarga</td>\n",
       "      <td>2</td>\n",
       "      <td>0</td>\n",
       "      <td>1</td>\n",
       "      <td>ya</td>\n",
       "    </tr>\n",
       "  </tbody>\n",
       "</table>\n",
       "</div>"
      ],
      "text/plain": [
       "   IDENTITAS                  UMUR JENIS_KELAMIN  PENGALAMAN_MENGEMUDI  \\\n",
       "0     569520   lebih dari 65 tahun     perempuan  kurang dari 10 tahun   \n",
       "1     750365  kurang dari 25 tahun     laki-laki  kurang dari 10 tahun   \n",
       "2     199901  kurang dari 25 tahun     perempuan  kurang dari 10 tahun   \n",
       "3     478866  kurang dari 25 tahun     laki-laki  kurang dari 10 tahun   \n",
       "4     731664    antara 25-40 tahun     laki-laki    antara 10-20 tahun   \n",
       "\n",
       "    PENDIDIKAN        PENGHASILAN  SKOR_KREDIT PEMILIK_KENDARAAN  \\\n",
       "0          SMA  lebih dari 3x UMR     0.629027                ya   \n",
       "1    tidak ada    kurang dari UMR     0.357757             tidak   \n",
       "2          SMA    antara 1-2x UMR     0.493146                ya   \n",
       "3  universitas    antara 1-2x UMR     0.206013                ya   \n",
       "4    tidak ada    antara 1-2x UMR     0.388366                ya   \n",
       "\n",
       "  TAHUN_PRODUKSI         STATUS       ANAK  KODE_POS  KM_PER_TAHUN  \\\n",
       "0   setelah 2020  belum menikah        ada     10238       12000.0   \n",
       "1   sebelum 2020  belum menikah  tidak ada     10238       16000.0   \n",
       "2   sebelum 2020  belum menikah  tidak ada     10238       11000.0   \n",
       "3   sebelum 2020  belum menikah        ada     32765       11000.0   \n",
       "4   sebelum 2020  belum menikah  tidak ada     32765       12000.0   \n",
       "\n",
       "  JENIS_KENDARAAN  TILANG_NGEBUT  TILANG_MABUK  KECELAKAAN_SEBELUMNYA  KLAIM  \n",
       "0        keluarga              0             0                      0  tidak  \n",
       "1        keluarga              0             0                      0     ya  \n",
       "2        keluarga              0             0                      0  tidak  \n",
       "3        keluarga              0             0                      0  tidak  \n",
       "4        keluarga              2             0                      1     ya  "
      ]
     },
     "execution_count": 5,
     "metadata": {},
     "output_type": "execute_result"
    }
   ],
   "source": [
    "data = pd.read_csv('https://raw.githubusercontent.com/imdwipayana/Python-Project-2023/main/Project/asuransi_mobil.csv')\n",
    "data.head()"
   ]
  },
  {
   "cell_type": "code",
   "execution_count": 6,
   "id": "5b357ac3",
   "metadata": {},
   "outputs": [
    {
     "data": {
      "text/html": [
       "<div>\n",
       "<style scoped>\n",
       "    .dataframe tbody tr th:only-of-type {\n",
       "        vertical-align: middle;\n",
       "    }\n",
       "\n",
       "    .dataframe tbody tr th {\n",
       "        vertical-align: top;\n",
       "    }\n",
       "\n",
       "    .dataframe thead th {\n",
       "        text-align: right;\n",
       "    }\n",
       "</style>\n",
       "<table border=\"1\" class=\"dataframe\">\n",
       "  <thead>\n",
       "    <tr style=\"text-align: right;\">\n",
       "      <th></th>\n",
       "      <th>IDENTITAS</th>\n",
       "      <th>SKOR_KREDIT</th>\n",
       "      <th>KODE_POS</th>\n",
       "      <th>KM_PER_TAHUN</th>\n",
       "      <th>TILANG_NGEBUT</th>\n",
       "      <th>TILANG_MABUK</th>\n",
       "      <th>KECELAKAAN_SEBELUMNYA</th>\n",
       "    </tr>\n",
       "  </thead>\n",
       "  <tbody>\n",
       "    <tr>\n",
       "      <th>count</th>\n",
       "      <td>10000.000000</td>\n",
       "      <td>9018.000000</td>\n",
       "      <td>10000.000000</td>\n",
       "      <td>9043.000000</td>\n",
       "      <td>10000.000000</td>\n",
       "      <td>10000.00000</td>\n",
       "      <td>10000.000000</td>\n",
       "    </tr>\n",
       "    <tr>\n",
       "      <th>mean</th>\n",
       "      <td>500521.906800</td>\n",
       "      <td>0.515813</td>\n",
       "      <td>19864.548400</td>\n",
       "      <td>11697.003207</td>\n",
       "      <td>1.482900</td>\n",
       "      <td>0.23920</td>\n",
       "      <td>1.056300</td>\n",
       "    </tr>\n",
       "    <tr>\n",
       "      <th>std</th>\n",
       "      <td>290030.768758</td>\n",
       "      <td>0.137688</td>\n",
       "      <td>18915.613855</td>\n",
       "      <td>2818.434528</td>\n",
       "      <td>2.241966</td>\n",
       "      <td>0.55499</td>\n",
       "      <td>1.652454</td>\n",
       "    </tr>\n",
       "    <tr>\n",
       "      <th>min</th>\n",
       "      <td>101.000000</td>\n",
       "      <td>0.053358</td>\n",
       "      <td>10238.000000</td>\n",
       "      <td>2000.000000</td>\n",
       "      <td>0.000000</td>\n",
       "      <td>0.00000</td>\n",
       "      <td>0.000000</td>\n",
       "    </tr>\n",
       "    <tr>\n",
       "      <th>25%</th>\n",
       "      <td>249638.500000</td>\n",
       "      <td>0.417191</td>\n",
       "      <td>10238.000000</td>\n",
       "      <td>10000.000000</td>\n",
       "      <td>0.000000</td>\n",
       "      <td>0.00000</td>\n",
       "      <td>0.000000</td>\n",
       "    </tr>\n",
       "    <tr>\n",
       "      <th>50%</th>\n",
       "      <td>501777.000000</td>\n",
       "      <td>0.525033</td>\n",
       "      <td>10238.000000</td>\n",
       "      <td>12000.000000</td>\n",
       "      <td>0.000000</td>\n",
       "      <td>0.00000</td>\n",
       "      <td>0.000000</td>\n",
       "    </tr>\n",
       "    <tr>\n",
       "      <th>75%</th>\n",
       "      <td>753974.500000</td>\n",
       "      <td>0.618312</td>\n",
       "      <td>32765.000000</td>\n",
       "      <td>14000.000000</td>\n",
       "      <td>2.000000</td>\n",
       "      <td>0.00000</td>\n",
       "      <td>2.000000</td>\n",
       "    </tr>\n",
       "    <tr>\n",
       "      <th>max</th>\n",
       "      <td>999976.000000</td>\n",
       "      <td>0.960819</td>\n",
       "      <td>92101.000000</td>\n",
       "      <td>22000.000000</td>\n",
       "      <td>22.000000</td>\n",
       "      <td>6.00000</td>\n",
       "      <td>15.000000</td>\n",
       "    </tr>\n",
       "  </tbody>\n",
       "</table>\n",
       "</div>"
      ],
      "text/plain": [
       "           IDENTITAS  SKOR_KREDIT      KODE_POS  KM_PER_TAHUN  TILANG_NGEBUT  \\\n",
       "count   10000.000000  9018.000000  10000.000000   9043.000000   10000.000000   \n",
       "mean   500521.906800     0.515813  19864.548400  11697.003207       1.482900   \n",
       "std    290030.768758     0.137688  18915.613855   2818.434528       2.241966   \n",
       "min       101.000000     0.053358  10238.000000   2000.000000       0.000000   \n",
       "25%    249638.500000     0.417191  10238.000000  10000.000000       0.000000   \n",
       "50%    501777.000000     0.525033  10238.000000  12000.000000       0.000000   \n",
       "75%    753974.500000     0.618312  32765.000000  14000.000000       2.000000   \n",
       "max    999976.000000     0.960819  92101.000000  22000.000000      22.000000   \n",
       "\n",
       "       TILANG_MABUK  KECELAKAAN_SEBELUMNYA  \n",
       "count   10000.00000           10000.000000  \n",
       "mean        0.23920               1.056300  \n",
       "std         0.55499               1.652454  \n",
       "min         0.00000               0.000000  \n",
       "25%         0.00000               0.000000  \n",
       "50%         0.00000               0.000000  \n",
       "75%         0.00000               2.000000  \n",
       "max         6.00000              15.000000  "
      ]
     },
     "execution_count": 6,
     "metadata": {},
     "output_type": "execute_result"
    }
   ],
   "source": [
    "data.describe()"
   ]
  },
  {
   "cell_type": "code",
   "execution_count": 7,
   "id": "b0d124d3",
   "metadata": {},
   "outputs": [
    {
     "data": {
      "text/plain": [
       "IDENTITAS                  int64\n",
       "UMUR                      object\n",
       "JENIS_KELAMIN             object\n",
       "PENGALAMAN_MENGEMUDI      object\n",
       "PENDIDIKAN                object\n",
       "PENGHASILAN               object\n",
       "SKOR_KREDIT              float64\n",
       "PEMILIK_KENDARAAN         object\n",
       "TAHUN_PRODUKSI            object\n",
       "STATUS                    object\n",
       "ANAK                      object\n",
       "KODE_POS                   int64\n",
       "KM_PER_TAHUN             float64\n",
       "JENIS_KENDARAAN           object\n",
       "TILANG_NGEBUT              int64\n",
       "TILANG_MABUK               int64\n",
       "KECELAKAAN_SEBELUMNYA      int64\n",
       "KLAIM                     object\n",
       "dtype: object"
      ]
     },
     "execution_count": 7,
     "metadata": {},
     "output_type": "execute_result"
    }
   ],
   "source": [
    "# Melihat type data apakah berupa integer, bilangan desimal, atau data kategori\n",
    "data.dtypes"
   ]
  },
  {
   "cell_type": "code",
   "execution_count": 8,
   "id": "3cf58ddd",
   "metadata": {},
   "outputs": [
    {
     "data": {
      "text/plain": [
       "IDENTITAS                  0\n",
       "UMUR                       0\n",
       "JENIS_KELAMIN              0\n",
       "PENGALAMAN_MENGEMUDI       0\n",
       "PENDIDIKAN                 0\n",
       "PENGHASILAN                0\n",
       "SKOR_KREDIT              982\n",
       "PEMILIK_KENDARAAN          0\n",
       "TAHUN_PRODUKSI             0\n",
       "STATUS                     0\n",
       "ANAK                       0\n",
       "KODE_POS                   0\n",
       "KM_PER_TAHUN             957\n",
       "JENIS_KENDARAAN            0\n",
       "TILANG_NGEBUT              0\n",
       "TILANG_MABUK               0\n",
       "KECELAKAAN_SEBELUMNYA      0\n",
       "KLAIM                      0\n",
       "dtype: int64"
      ]
     },
     "execution_count": 8,
     "metadata": {},
     "output_type": "execute_result"
    }
   ],
   "source": [
    "# mengecek apakah terdapat data yang kosong\n",
    "data.isnull().sum()"
   ]
  },
  {
   "cell_type": "code",
   "execution_count": 9,
   "id": "813969f3",
   "metadata": {},
   "outputs": [],
   "source": [
    "data_categorical=['SKOR_KREDIT','KM_PER_TAHUN']"
   ]
  },
  {
   "cell_type": "code",
   "execution_count": 11,
   "id": "b24d658f",
   "metadata": {},
   "outputs": [
    {
     "data": {
      "text/html": [
       "<div>\n",
       "<style scoped>\n",
       "    .dataframe tbody tr th:only-of-type {\n",
       "        vertical-align: middle;\n",
       "    }\n",
       "\n",
       "    .dataframe tbody tr th {\n",
       "        vertical-align: top;\n",
       "    }\n",
       "\n",
       "    .dataframe thead th {\n",
       "        text-align: right;\n",
       "    }\n",
       "</style>\n",
       "<table border=\"1\" class=\"dataframe\">\n",
       "  <thead>\n",
       "    <tr style=\"text-align: right;\">\n",
       "      <th></th>\n",
       "      <th>IDENTITAS</th>\n",
       "      <th>UMUR</th>\n",
       "      <th>JENIS_KELAMIN</th>\n",
       "      <th>PENGALAMAN_MENGEMUDI</th>\n",
       "      <th>PENDIDIKAN</th>\n",
       "      <th>PENGHASILAN</th>\n",
       "      <th>PEMILIK_KENDARAAN</th>\n",
       "      <th>TAHUN_PRODUKSI</th>\n",
       "      <th>STATUS</th>\n",
       "      <th>ANAK</th>\n",
       "      <th>KODE_POS</th>\n",
       "      <th>JENIS_KENDARAAN</th>\n",
       "      <th>TILANG_NGEBUT</th>\n",
       "      <th>TILANG_MABUK</th>\n",
       "      <th>KECELAKAAN_SEBELUMNYA</th>\n",
       "      <th>KLAIM</th>\n",
       "    </tr>\n",
       "  </thead>\n",
       "  <tbody>\n",
       "    <tr>\n",
       "      <th>0</th>\n",
       "      <td>569520</td>\n",
       "      <td>lebih dari 65 tahun</td>\n",
       "      <td>perempuan</td>\n",
       "      <td>kurang dari 10 tahun</td>\n",
       "      <td>SMA</td>\n",
       "      <td>lebih dari 3x UMR</td>\n",
       "      <td>ya</td>\n",
       "      <td>setelah 2020</td>\n",
       "      <td>belum menikah</td>\n",
       "      <td>ada</td>\n",
       "      <td>10238</td>\n",
       "      <td>keluarga</td>\n",
       "      <td>0</td>\n",
       "      <td>0</td>\n",
       "      <td>0</td>\n",
       "      <td>tidak</td>\n",
       "    </tr>\n",
       "    <tr>\n",
       "      <th>1</th>\n",
       "      <td>750365</td>\n",
       "      <td>kurang dari 25 tahun</td>\n",
       "      <td>laki-laki</td>\n",
       "      <td>kurang dari 10 tahun</td>\n",
       "      <td>tidak ada</td>\n",
       "      <td>kurang dari UMR</td>\n",
       "      <td>tidak</td>\n",
       "      <td>sebelum 2020</td>\n",
       "      <td>belum menikah</td>\n",
       "      <td>tidak ada</td>\n",
       "      <td>10238</td>\n",
       "      <td>keluarga</td>\n",
       "      <td>0</td>\n",
       "      <td>0</td>\n",
       "      <td>0</td>\n",
       "      <td>ya</td>\n",
       "    </tr>\n",
       "    <tr>\n",
       "      <th>2</th>\n",
       "      <td>199901</td>\n",
       "      <td>kurang dari 25 tahun</td>\n",
       "      <td>perempuan</td>\n",
       "      <td>kurang dari 10 tahun</td>\n",
       "      <td>SMA</td>\n",
       "      <td>antara 1-2x UMR</td>\n",
       "      <td>ya</td>\n",
       "      <td>sebelum 2020</td>\n",
       "      <td>belum menikah</td>\n",
       "      <td>tidak ada</td>\n",
       "      <td>10238</td>\n",
       "      <td>keluarga</td>\n",
       "      <td>0</td>\n",
       "      <td>0</td>\n",
       "      <td>0</td>\n",
       "      <td>tidak</td>\n",
       "    </tr>\n",
       "    <tr>\n",
       "      <th>3</th>\n",
       "      <td>478866</td>\n",
       "      <td>kurang dari 25 tahun</td>\n",
       "      <td>laki-laki</td>\n",
       "      <td>kurang dari 10 tahun</td>\n",
       "      <td>universitas</td>\n",
       "      <td>antara 1-2x UMR</td>\n",
       "      <td>ya</td>\n",
       "      <td>sebelum 2020</td>\n",
       "      <td>belum menikah</td>\n",
       "      <td>ada</td>\n",
       "      <td>32765</td>\n",
       "      <td>keluarga</td>\n",
       "      <td>0</td>\n",
       "      <td>0</td>\n",
       "      <td>0</td>\n",
       "      <td>tidak</td>\n",
       "    </tr>\n",
       "    <tr>\n",
       "      <th>4</th>\n",
       "      <td>731664</td>\n",
       "      <td>antara 25-40 tahun</td>\n",
       "      <td>laki-laki</td>\n",
       "      <td>antara 10-20 tahun</td>\n",
       "      <td>tidak ada</td>\n",
       "      <td>antara 1-2x UMR</td>\n",
       "      <td>ya</td>\n",
       "      <td>sebelum 2020</td>\n",
       "      <td>belum menikah</td>\n",
       "      <td>tidak ada</td>\n",
       "      <td>32765</td>\n",
       "      <td>keluarga</td>\n",
       "      <td>2</td>\n",
       "      <td>0</td>\n",
       "      <td>1</td>\n",
       "      <td>ya</td>\n",
       "    </tr>\n",
       "  </tbody>\n",
       "</table>\n",
       "</div>"
      ],
      "text/plain": [
       "   IDENTITAS                  UMUR JENIS_KELAMIN  PENGALAMAN_MENGEMUDI  \\\n",
       "0     569520   lebih dari 65 tahun     perempuan  kurang dari 10 tahun   \n",
       "1     750365  kurang dari 25 tahun     laki-laki  kurang dari 10 tahun   \n",
       "2     199901  kurang dari 25 tahun     perempuan  kurang dari 10 tahun   \n",
       "3     478866  kurang dari 25 tahun     laki-laki  kurang dari 10 tahun   \n",
       "4     731664    antara 25-40 tahun     laki-laki    antara 10-20 tahun   \n",
       "\n",
       "    PENDIDIKAN        PENGHASILAN PEMILIK_KENDARAAN TAHUN_PRODUKSI  \\\n",
       "0          SMA  lebih dari 3x UMR                ya   setelah 2020   \n",
       "1    tidak ada    kurang dari UMR             tidak   sebelum 2020   \n",
       "2          SMA    antara 1-2x UMR                ya   sebelum 2020   \n",
       "3  universitas    antara 1-2x UMR                ya   sebelum 2020   \n",
       "4    tidak ada    antara 1-2x UMR                ya   sebelum 2020   \n",
       "\n",
       "          STATUS       ANAK  KODE_POS JENIS_KENDARAAN  TILANG_NGEBUT  \\\n",
       "0  belum menikah        ada     10238        keluarga              0   \n",
       "1  belum menikah  tidak ada     10238        keluarga              0   \n",
       "2  belum menikah  tidak ada     10238        keluarga              0   \n",
       "3  belum menikah        ada     32765        keluarga              0   \n",
       "4  belum menikah  tidak ada     32765        keluarga              2   \n",
       "\n",
       "   TILANG_MABUK  KECELAKAAN_SEBELUMNYA  KLAIM  \n",
       "0             0                      0  tidak  \n",
       "1             0                      0     ya  \n",
       "2             0                      0  tidak  \n",
       "3             0                      0  tidak  \n",
       "4             0                      1     ya  "
      ]
     },
     "execution_count": 11,
     "metadata": {},
     "output_type": "execute_result"
    }
   ],
   "source": [
    "data_drop = data.drop(data_categorical, axis = 1)\n",
    "data_drop.head()"
   ]
  },
  {
   "cell_type": "code",
   "execution_count": 13,
   "id": "4c7e6bd5",
   "metadata": {},
   "outputs": [
    {
     "data": {
      "text/html": [
       "<div>\n",
       "<style scoped>\n",
       "    .dataframe tbody tr th:only-of-type {\n",
       "        vertical-align: middle;\n",
       "    }\n",
       "\n",
       "    .dataframe tbody tr th {\n",
       "        vertical-align: top;\n",
       "    }\n",
       "\n",
       "    .dataframe thead th {\n",
       "        text-align: right;\n",
       "    }\n",
       "</style>\n",
       "<table border=\"1\" class=\"dataframe\">\n",
       "  <thead>\n",
       "    <tr style=\"text-align: right;\">\n",
       "      <th></th>\n",
       "      <th>SKOR_KREDIT</th>\n",
       "      <th>KM_PER_TAHUN</th>\n",
       "    </tr>\n",
       "  </thead>\n",
       "  <tbody>\n",
       "    <tr>\n",
       "      <th>count</th>\n",
       "      <td>9018.000000</td>\n",
       "      <td>9043.000000</td>\n",
       "    </tr>\n",
       "    <tr>\n",
       "      <th>mean</th>\n",
       "      <td>0.515813</td>\n",
       "      <td>11697.003207</td>\n",
       "    </tr>\n",
       "    <tr>\n",
       "      <th>std</th>\n",
       "      <td>0.137688</td>\n",
       "      <td>2818.434528</td>\n",
       "    </tr>\n",
       "    <tr>\n",
       "      <th>min</th>\n",
       "      <td>0.053358</td>\n",
       "      <td>2000.000000</td>\n",
       "    </tr>\n",
       "    <tr>\n",
       "      <th>25%</th>\n",
       "      <td>0.417191</td>\n",
       "      <td>10000.000000</td>\n",
       "    </tr>\n",
       "    <tr>\n",
       "      <th>50%</th>\n",
       "      <td>0.525033</td>\n",
       "      <td>12000.000000</td>\n",
       "    </tr>\n",
       "    <tr>\n",
       "      <th>75%</th>\n",
       "      <td>0.618312</td>\n",
       "      <td>14000.000000</td>\n",
       "    </tr>\n",
       "    <tr>\n",
       "      <th>max</th>\n",
       "      <td>0.960819</td>\n",
       "      <td>22000.000000</td>\n",
       "    </tr>\n",
       "  </tbody>\n",
       "</table>\n",
       "</div>"
      ],
      "text/plain": [
       "       SKOR_KREDIT  KM_PER_TAHUN\n",
       "count  9018.000000   9043.000000\n",
       "mean      0.515813  11697.003207\n",
       "std       0.137688   2818.434528\n",
       "min       0.053358   2000.000000\n",
       "25%       0.417191  10000.000000\n",
       "50%       0.525033  12000.000000\n",
       "75%       0.618312  14000.000000\n",
       "max       0.960819  22000.000000"
      ]
     },
     "execution_count": 13,
     "metadata": {},
     "output_type": "execute_result"
    }
   ],
   "source": [
    "data[data_categorical].describe()"
   ]
  },
  {
   "cell_type": "code",
   "execution_count": 14,
   "id": "6c28e088",
   "metadata": {},
   "outputs": [
    {
     "data": {
      "text/plain": [
       "array(['lebih dari 65 tahun', 'kurang dari 25 tahun',\n",
       "       'antara 25-40 tahun', 'antara 40-65 tahun'], dtype=object)"
      ]
     },
     "execution_count": 14,
     "metadata": {},
     "output_type": "execute_result"
    }
   ],
   "source": [
    "# Melihat apa saja isi dari kolom PEKERJAAN (data kategori yang tidak dapat dibandingkan)\n",
    "data.UMUR.unique()"
   ]
  },
  {
   "cell_type": "code",
   "execution_count": 15,
   "id": "7b960e99",
   "metadata": {},
   "outputs": [
    {
     "data": {
      "text/plain": [
       "array(['perempuan', 'laki-laki'], dtype=object)"
      ]
     },
     "execution_count": 15,
     "metadata": {},
     "output_type": "execute_result"
    }
   ],
   "source": [
    "data.JENIS_KELAMIN.unique()"
   ]
  },
  {
   "cell_type": "code",
   "execution_count": 16,
   "id": "6023d57c",
   "metadata": {},
   "outputs": [
    {
     "data": {
      "text/plain": [
       "array(['kurang dari 10 tahun', 'antara 10-20 tahun', 'antara 20-30 tahun',\n",
       "       'lebih dari 30 tahun'], dtype=object)"
      ]
     },
     "execution_count": 16,
     "metadata": {},
     "output_type": "execute_result"
    }
   ],
   "source": [
    "data.PENGALAMAN_MENGEMUDI.unique()"
   ]
  },
  {
   "cell_type": "code",
   "execution_count": 17,
   "id": "7c73bb36",
   "metadata": {},
   "outputs": [
    {
     "data": {
      "text/plain": [
       "array(['SMA', 'tidak ada', 'universitas'], dtype=object)"
      ]
     },
     "execution_count": 17,
     "metadata": {},
     "output_type": "execute_result"
    }
   ],
   "source": [
    "data.PENDIDIKAN.unique()"
   ]
  },
  {
   "cell_type": "code",
   "execution_count": 18,
   "id": "c6458363",
   "metadata": {},
   "outputs": [
    {
     "data": {
      "text/plain": [
       "array(['lebih dari 3x UMR', 'kurang dari UMR', 'antara 1-2x UMR',\n",
       "       'antara 2-3x UMR'], dtype=object)"
      ]
     },
     "execution_count": 18,
     "metadata": {},
     "output_type": "execute_result"
    }
   ],
   "source": [
    "data.PENGHASILAN.unique()"
   ]
  },
  {
   "cell_type": "code",
   "execution_count": 19,
   "id": "82dd5dc8",
   "metadata": {},
   "outputs": [
    {
     "data": {
      "text/plain": [
       "array([0.62902731, 0.35775712, 0.49314579, ..., 0.47094023, 0.36418478,\n",
       "       0.43522478])"
      ]
     },
     "execution_count": 19,
     "metadata": {},
     "output_type": "execute_result"
    }
   ],
   "source": [
    "data.SKOR_KREDIT.unique()"
   ]
  },
  {
   "cell_type": "code",
   "execution_count": 20,
   "id": "a48f07b3",
   "metadata": {},
   "outputs": [
    {
     "data": {
      "text/plain": [
       "array(['ya', 'tidak'], dtype=object)"
      ]
     },
     "execution_count": 20,
     "metadata": {},
     "output_type": "execute_result"
    }
   ],
   "source": [
    "data.PEMILIK_KENDARAAN.unique()"
   ]
  },
  {
   "cell_type": "code",
   "execution_count": 21,
   "id": "875805a0",
   "metadata": {},
   "outputs": [
    {
     "data": {
      "text/plain": [
       "array(['setelah 2020', 'sebelum 2020'], dtype=object)"
      ]
     },
     "execution_count": 21,
     "metadata": {},
     "output_type": "execute_result"
    }
   ],
   "source": [
    "data.TAHUN_PRODUKSI.unique()"
   ]
  },
  {
   "cell_type": "code",
   "execution_count": 22,
   "id": "fbf62655",
   "metadata": {},
   "outputs": [
    {
     "data": {
      "text/plain": [
       "array(['belum menikah', 'menikah'], dtype=object)"
      ]
     },
     "execution_count": 22,
     "metadata": {},
     "output_type": "execute_result"
    }
   ],
   "source": [
    "data.STATUS.unique()"
   ]
  },
  {
   "cell_type": "code",
   "execution_count": 23,
   "id": "ddf8a173",
   "metadata": {},
   "outputs": [
    {
     "data": {
      "text/plain": [
       "array(['ada', 'tidak ada'], dtype=object)"
      ]
     },
     "execution_count": 23,
     "metadata": {},
     "output_type": "execute_result"
    }
   ],
   "source": [
    "data.ANAK.unique()"
   ]
  },
  {
   "cell_type": "code",
   "execution_count": 24,
   "id": "dd59838f",
   "metadata": {},
   "outputs": [
    {
     "data": {
      "text/plain": [
       "array([10238, 32765, 92101, 21217], dtype=int64)"
      ]
     },
     "execution_count": 24,
     "metadata": {},
     "output_type": "execute_result"
    }
   ],
   "source": [
    "data.KODE_POS.unique()"
   ]
  },
  {
   "cell_type": "code",
   "execution_count": 25,
   "id": "eba1dc56",
   "metadata": {},
   "outputs": [
    {
     "data": {
      "text/plain": [
       "array([12000., 16000., 11000., 13000., 14000., 10000.,  8000.,    nan,\n",
       "       18000., 17000.,  7000., 15000.,  9000.,  5000.,  6000., 19000.,\n",
       "        4000.,  3000.,  2000., 20000., 21000., 22000.])"
      ]
     },
     "execution_count": 25,
     "metadata": {},
     "output_type": "execute_result"
    }
   ],
   "source": [
    "data.KM_PER_TAHUN.unique()"
   ]
  },
  {
   "cell_type": "code",
   "execution_count": 26,
   "id": "58c09941",
   "metadata": {},
   "outputs": [
    {
     "data": {
      "text/plain": [
       "array(['keluarga', 'sport'], dtype=object)"
      ]
     },
     "execution_count": 26,
     "metadata": {},
     "output_type": "execute_result"
    }
   ],
   "source": [
    "data.JENIS_KENDARAAN.unique()"
   ]
  },
  {
   "cell_type": "code",
   "execution_count": 27,
   "id": "8bde99ea",
   "metadata": {},
   "outputs": [
    {
     "data": {
      "text/plain": [
       "array([ 0,  2,  3,  7,  6,  4, 10, 13,  1,  5,  9,  8, 12, 11, 15, 17, 19,\n",
       "       18, 16, 14, 22], dtype=int64)"
      ]
     },
     "execution_count": 27,
     "metadata": {},
     "output_type": "execute_result"
    }
   ],
   "source": [
    "data.TILANG_NGEBUT.unique()"
   ]
  },
  {
   "cell_type": "code",
   "execution_count": 28,
   "id": "166ae943",
   "metadata": {},
   "outputs": [
    {
     "data": {
      "text/plain": [
       "array([0, 2, 1, 3, 4, 5, 6], dtype=int64)"
      ]
     },
     "execution_count": 28,
     "metadata": {},
     "output_type": "execute_result"
    }
   ],
   "source": [
    "data.TILANG_MABUK.unique()"
   ]
  },
  {
   "cell_type": "code",
   "execution_count": 29,
   "id": "afbf9b5b",
   "metadata": {},
   "outputs": [
    {
     "data": {
      "text/plain": [
       "array([ 0,  1,  3,  7,  2,  5,  4,  6,  8, 10, 11,  9, 12, 14, 15],\n",
       "      dtype=int64)"
      ]
     },
     "execution_count": 29,
     "metadata": {},
     "output_type": "execute_result"
    }
   ],
   "source": [
    "data.KECELAKAAN_SEBELUMNYA.unique()"
   ]
  },
  {
   "cell_type": "code",
   "execution_count": 30,
   "id": "9e3fdedd",
   "metadata": {},
   "outputs": [
    {
     "data": {
      "text/plain": [
       "array(['tidak', 'ya'], dtype=object)"
      ]
     },
     "execution_count": 30,
     "metadata": {},
     "output_type": "execute_result"
    }
   ],
   "source": [
    "data.KLAIM.unique()"
   ]
  },
  {
   "cell_type": "code",
   "execution_count": null,
   "id": "d0b6803a",
   "metadata": {},
   "outputs": [],
   "source": []
  },
  {
   "cell_type": "code",
   "execution_count": null,
   "id": "8b7f745e",
   "metadata": {},
   "outputs": [],
   "source": []
  },
  {
   "cell_type": "code",
   "execution_count": null,
   "id": "03db46fa",
   "metadata": {},
   "outputs": [],
   "source": []
  },
  {
   "cell_type": "code",
   "execution_count": 34,
   "id": "3ac0a3c3",
   "metadata": {},
   "outputs": [
    {
     "data": {
      "text/plain": [
       "array(['SMA', 'tidak ada', 'universitas'], dtype=object)"
      ]
     },
     "execution_count": 34,
     "metadata": {},
     "output_type": "execute_result"
    }
   ],
   "source": [
    "data.PENDIDIKAN.unique()"
   ]
  },
  {
   "cell_type": "code",
   "execution_count": 35,
   "id": "07f291a8",
   "metadata": {},
   "outputs": [],
   "source": [
    "# Melakukan mapping dari Pendidikan karena walaupun pendidikan merupakan data kategori, akan tetapi\n",
    "# terdapat peningkatan dari SD, SMP, SMA, Diploma dan Universitas.\n",
    "data['PENDIDIKAN'] = \\\n",
    "data['PENDIDIKAN'].map({'lulus universitas':5,'lulus SMA':3,'lulus SMP':2,'lulus diploma':4,'tidak lulus SD':0,'lulus SD':1})"
   ]
  },
  {
   "cell_type": "code",
   "execution_count": 36,
   "id": "a44a4888",
   "metadata": {},
   "outputs": [],
   "source": [
    "data['UMUR'] = \\\n",
    "data['UMUR'].map({'lebih dari 65 tahun':0, 'kurang dari 25 tahun':1,\n",
    "       'antara 25-40 tahun':2, 'antara 40-65 tahun':3})"
   ]
  },
  {
   "cell_type": "code",
   "execution_count": 39,
   "id": "1f3628ce",
   "metadata": {},
   "outputs": [],
   "source": [
    "data['JENIS_KELAMIN'] = \\\n",
    "data['JENIS_KELAMIN'].map({'perempuan':0, 'laki-laki':1})"
   ]
  },
  {
   "cell_type": "code",
   "execution_count": 40,
   "id": "e8f6fe65",
   "metadata": {},
   "outputs": [],
   "source": [
    "data['PENGALAMAN_MENGEMUDI'] = \\\n",
    "data['PENGALAMAN_MENGEMUDI'].map({'kurang dari 10 tahun':0, 'antara 10-20 tahun':1, 'antara 20-30 tahun':2,\n",
    "       'lebih dari 30 tahun':3})"
   ]
  },
  {
   "cell_type": "code",
   "execution_count": 41,
   "id": "57202887",
   "metadata": {},
   "outputs": [],
   "source": [
    "data['PENGHASILAN'] = \\\n",
    "data['PENGHASILAN'].map({'lebih dari 3x UMR':0, 'kurang dari UMR':1, 'antara 1-2x UMR':2,\n",
    "       'antara 2-3x UMR':3})"
   ]
  },
  {
   "cell_type": "code",
   "execution_count": 42,
   "id": "394bba24",
   "metadata": {},
   "outputs": [],
   "source": [
    "data['PEMILIK_KENDARAAN'] = \\\n",
    "data['PEMILIK_KENDARAAN'].map({'ya':0, 'tidak':1})"
   ]
  },
  {
   "cell_type": "code",
   "execution_count": 43,
   "id": "1f914ba4",
   "metadata": {},
   "outputs": [],
   "source": [
    "data['TAHUN_PRODUKSI'] = \\\n",
    "data['TAHUN_PRODUKSI'].map({'setelah 2020':0, 'sebelum 2020':1})"
   ]
  },
  {
   "cell_type": "code",
   "execution_count": 44,
   "id": "0581eaf0",
   "metadata": {},
   "outputs": [],
   "source": [
    "data['STATUS'] = \\\n",
    "data['STATUS'].map({'belum menikah':0, 'menikah':1})"
   ]
  },
  {
   "cell_type": "code",
   "execution_count": 45,
   "id": "c93a6131",
   "metadata": {},
   "outputs": [],
   "source": [
    "data['ANAK'] = \\\n",
    "data['ANAK'].map({'ada':0, 'tidak ada':1})"
   ]
  },
  {
   "cell_type": "code",
   "execution_count": 46,
   "id": "a5eb6e11",
   "metadata": {},
   "outputs": [],
   "source": [
    "data['JENIS_KENDARAAN'] = \\\n",
    "data['JENIS_KENDARAAN'].map({'keluarga':0, 'sport':1})"
   ]
  },
  {
   "cell_type": "code",
   "execution_count": 47,
   "id": "bcf4bb4a",
   "metadata": {},
   "outputs": [],
   "source": [
    "data['KLAIM'] = \\\n",
    "data['KLAIM'].map({'tidak':0, 'ya':1})"
   ]
  },
  {
   "cell_type": "code",
   "execution_count": 48,
   "id": "34c71cab",
   "metadata": {},
   "outputs": [
    {
     "data": {
      "text/html": [
       "<div>\n",
       "<style scoped>\n",
       "    .dataframe tbody tr th:only-of-type {\n",
       "        vertical-align: middle;\n",
       "    }\n",
       "\n",
       "    .dataframe tbody tr th {\n",
       "        vertical-align: top;\n",
       "    }\n",
       "\n",
       "    .dataframe thead th {\n",
       "        text-align: right;\n",
       "    }\n",
       "</style>\n",
       "<table border=\"1\" class=\"dataframe\">\n",
       "  <thead>\n",
       "    <tr style=\"text-align: right;\">\n",
       "      <th></th>\n",
       "      <th>IDENTITAS</th>\n",
       "      <th>UMUR</th>\n",
       "      <th>JENIS_KELAMIN</th>\n",
       "      <th>PENGALAMAN_MENGEMUDI</th>\n",
       "      <th>PENDIDIKAN</th>\n",
       "      <th>PENGHASILAN</th>\n",
       "      <th>SKOR_KREDIT</th>\n",
       "      <th>PEMILIK_KENDARAAN</th>\n",
       "      <th>TAHUN_PRODUKSI</th>\n",
       "      <th>STATUS</th>\n",
       "      <th>ANAK</th>\n",
       "      <th>KODE_POS</th>\n",
       "      <th>KM_PER_TAHUN</th>\n",
       "      <th>JENIS_KENDARAAN</th>\n",
       "      <th>TILANG_NGEBUT</th>\n",
       "      <th>TILANG_MABUK</th>\n",
       "      <th>KECELAKAAN_SEBELUMNYA</th>\n",
       "      <th>KLAIM</th>\n",
       "    </tr>\n",
       "  </thead>\n",
       "  <tbody>\n",
       "    <tr>\n",
       "      <th>count</th>\n",
       "      <td>10000.000000</td>\n",
       "      <td>10000.000000</td>\n",
       "      <td>10000.000000</td>\n",
       "      <td>10000.000000</td>\n",
       "      <td>0.0</td>\n",
       "      <td>10000.000000</td>\n",
       "      <td>9018.000000</td>\n",
       "      <td>10000.000000</td>\n",
       "      <td>10000.000000</td>\n",
       "      <td>10000.000000</td>\n",
       "      <td>10000.000000</td>\n",
       "      <td>10000.000000</td>\n",
       "      <td>9043.000000</td>\n",
       "      <td>10000.000000</td>\n",
       "      <td>10000.000000</td>\n",
       "      <td>10000.00000</td>\n",
       "      <td>10000.000000</td>\n",
       "      <td>10000.000000</td>\n",
       "    </tr>\n",
       "    <tr>\n",
       "      <th>mean</th>\n",
       "      <td>500521.906800</td>\n",
       "      <td>1.693500</td>\n",
       "      <td>0.499000</td>\n",
       "      <td>1.069300</td>\n",
       "      <td>NaN</td>\n",
       "      <td>1.165200</td>\n",
       "      <td>0.515813</td>\n",
       "      <td>0.303000</td>\n",
       "      <td>0.696700</td>\n",
       "      <td>0.498200</td>\n",
       "      <td>0.311200</td>\n",
       "      <td>19864.548400</td>\n",
       "      <td>11697.003207</td>\n",
       "      <td>0.047700</td>\n",
       "      <td>1.482900</td>\n",
       "      <td>0.23920</td>\n",
       "      <td>1.056300</td>\n",
       "      <td>0.313300</td>\n",
       "    </tr>\n",
       "    <tr>\n",
       "      <th>std</th>\n",
       "      <td>290030.768758</td>\n",
       "      <td>1.094019</td>\n",
       "      <td>0.500024</td>\n",
       "      <td>0.990452</td>\n",
       "      <td>NaN</td>\n",
       "      <td>1.197018</td>\n",
       "      <td>0.137688</td>\n",
       "      <td>0.459578</td>\n",
       "      <td>0.459707</td>\n",
       "      <td>0.500022</td>\n",
       "      <td>0.463008</td>\n",
       "      <td>18915.613855</td>\n",
       "      <td>2818.434528</td>\n",
       "      <td>0.213141</td>\n",
       "      <td>2.241966</td>\n",
       "      <td>0.55499</td>\n",
       "      <td>1.652454</td>\n",
       "      <td>0.463858</td>\n",
       "    </tr>\n",
       "    <tr>\n",
       "      <th>min</th>\n",
       "      <td>101.000000</td>\n",
       "      <td>0.000000</td>\n",
       "      <td>0.000000</td>\n",
       "      <td>0.000000</td>\n",
       "      <td>NaN</td>\n",
       "      <td>0.000000</td>\n",
       "      <td>0.053358</td>\n",
       "      <td>0.000000</td>\n",
       "      <td>0.000000</td>\n",
       "      <td>0.000000</td>\n",
       "      <td>0.000000</td>\n",
       "      <td>10238.000000</td>\n",
       "      <td>2000.000000</td>\n",
       "      <td>0.000000</td>\n",
       "      <td>0.000000</td>\n",
       "      <td>0.00000</td>\n",
       "      <td>0.000000</td>\n",
       "      <td>0.000000</td>\n",
       "    </tr>\n",
       "    <tr>\n",
       "      <th>25%</th>\n",
       "      <td>249638.500000</td>\n",
       "      <td>1.000000</td>\n",
       "      <td>0.000000</td>\n",
       "      <td>0.000000</td>\n",
       "      <td>NaN</td>\n",
       "      <td>0.000000</td>\n",
       "      <td>0.417191</td>\n",
       "      <td>0.000000</td>\n",
       "      <td>0.000000</td>\n",
       "      <td>0.000000</td>\n",
       "      <td>0.000000</td>\n",
       "      <td>10238.000000</td>\n",
       "      <td>10000.000000</td>\n",
       "      <td>0.000000</td>\n",
       "      <td>0.000000</td>\n",
       "      <td>0.00000</td>\n",
       "      <td>0.000000</td>\n",
       "      <td>0.000000</td>\n",
       "    </tr>\n",
       "    <tr>\n",
       "      <th>50%</th>\n",
       "      <td>501777.000000</td>\n",
       "      <td>2.000000</td>\n",
       "      <td>0.000000</td>\n",
       "      <td>1.000000</td>\n",
       "      <td>NaN</td>\n",
       "      <td>1.000000</td>\n",
       "      <td>0.525033</td>\n",
       "      <td>0.000000</td>\n",
       "      <td>1.000000</td>\n",
       "      <td>0.000000</td>\n",
       "      <td>0.000000</td>\n",
       "      <td>10238.000000</td>\n",
       "      <td>12000.000000</td>\n",
       "      <td>0.000000</td>\n",
       "      <td>0.000000</td>\n",
       "      <td>0.00000</td>\n",
       "      <td>0.000000</td>\n",
       "      <td>0.000000</td>\n",
       "    </tr>\n",
       "    <tr>\n",
       "      <th>75%</th>\n",
       "      <td>753974.500000</td>\n",
       "      <td>3.000000</td>\n",
       "      <td>1.000000</td>\n",
       "      <td>2.000000</td>\n",
       "      <td>NaN</td>\n",
       "      <td>2.000000</td>\n",
       "      <td>0.618312</td>\n",
       "      <td>1.000000</td>\n",
       "      <td>1.000000</td>\n",
       "      <td>1.000000</td>\n",
       "      <td>1.000000</td>\n",
       "      <td>32765.000000</td>\n",
       "      <td>14000.000000</td>\n",
       "      <td>0.000000</td>\n",
       "      <td>2.000000</td>\n",
       "      <td>0.00000</td>\n",
       "      <td>2.000000</td>\n",
       "      <td>1.000000</td>\n",
       "    </tr>\n",
       "    <tr>\n",
       "      <th>max</th>\n",
       "      <td>999976.000000</td>\n",
       "      <td>3.000000</td>\n",
       "      <td>1.000000</td>\n",
       "      <td>3.000000</td>\n",
       "      <td>NaN</td>\n",
       "      <td>3.000000</td>\n",
       "      <td>0.960819</td>\n",
       "      <td>1.000000</td>\n",
       "      <td>1.000000</td>\n",
       "      <td>1.000000</td>\n",
       "      <td>1.000000</td>\n",
       "      <td>92101.000000</td>\n",
       "      <td>22000.000000</td>\n",
       "      <td>1.000000</td>\n",
       "      <td>22.000000</td>\n",
       "      <td>6.00000</td>\n",
       "      <td>15.000000</td>\n",
       "      <td>1.000000</td>\n",
       "    </tr>\n",
       "  </tbody>\n",
       "</table>\n",
       "</div>"
      ],
      "text/plain": [
       "           IDENTITAS          UMUR  JENIS_KELAMIN  PENGALAMAN_MENGEMUDI  \\\n",
       "count   10000.000000  10000.000000   10000.000000          10000.000000   \n",
       "mean   500521.906800      1.693500       0.499000              1.069300   \n",
       "std    290030.768758      1.094019       0.500024              0.990452   \n",
       "min       101.000000      0.000000       0.000000              0.000000   \n",
       "25%    249638.500000      1.000000       0.000000              0.000000   \n",
       "50%    501777.000000      2.000000       0.000000              1.000000   \n",
       "75%    753974.500000      3.000000       1.000000              2.000000   \n",
       "max    999976.000000      3.000000       1.000000              3.000000   \n",
       "\n",
       "       PENDIDIKAN   PENGHASILAN  SKOR_KREDIT  PEMILIK_KENDARAAN  \\\n",
       "count         0.0  10000.000000  9018.000000       10000.000000   \n",
       "mean          NaN      1.165200     0.515813           0.303000   \n",
       "std           NaN      1.197018     0.137688           0.459578   \n",
       "min           NaN      0.000000     0.053358           0.000000   \n",
       "25%           NaN      0.000000     0.417191           0.000000   \n",
       "50%           NaN      1.000000     0.525033           0.000000   \n",
       "75%           NaN      2.000000     0.618312           1.000000   \n",
       "max           NaN      3.000000     0.960819           1.000000   \n",
       "\n",
       "       TAHUN_PRODUKSI        STATUS          ANAK      KODE_POS  KM_PER_TAHUN  \\\n",
       "count    10000.000000  10000.000000  10000.000000  10000.000000   9043.000000   \n",
       "mean         0.696700      0.498200      0.311200  19864.548400  11697.003207   \n",
       "std          0.459707      0.500022      0.463008  18915.613855   2818.434528   \n",
       "min          0.000000      0.000000      0.000000  10238.000000   2000.000000   \n",
       "25%          0.000000      0.000000      0.000000  10238.000000  10000.000000   \n",
       "50%          1.000000      0.000000      0.000000  10238.000000  12000.000000   \n",
       "75%          1.000000      1.000000      1.000000  32765.000000  14000.000000   \n",
       "max          1.000000      1.000000      1.000000  92101.000000  22000.000000   \n",
       "\n",
       "       JENIS_KENDARAAN  TILANG_NGEBUT  TILANG_MABUK  KECELAKAAN_SEBELUMNYA  \\\n",
       "count     10000.000000   10000.000000   10000.00000           10000.000000   \n",
       "mean          0.047700       1.482900       0.23920               1.056300   \n",
       "std           0.213141       2.241966       0.55499               1.652454   \n",
       "min           0.000000       0.000000       0.00000               0.000000   \n",
       "25%           0.000000       0.000000       0.00000               0.000000   \n",
       "50%           0.000000       0.000000       0.00000               0.000000   \n",
       "75%           0.000000       2.000000       0.00000               2.000000   \n",
       "max           1.000000      22.000000       6.00000              15.000000   \n",
       "\n",
       "              KLAIM  \n",
       "count  10000.000000  \n",
       "mean       0.313300  \n",
       "std        0.463858  \n",
       "min        0.000000  \n",
       "25%        0.000000  \n",
       "50%        0.000000  \n",
       "75%        1.000000  \n",
       "max        1.000000  "
      ]
     },
     "execution_count": 48,
     "metadata": {},
     "output_type": "execute_result"
    }
   ],
   "source": [
    "data.describe()"
   ]
  },
  {
   "cell_type": "code",
   "execution_count": 49,
   "id": "ec1f47c7",
   "metadata": {},
   "outputs": [
    {
     "data": {
      "text/plain": [
       "Index(['IDENTITAS', 'UMUR', 'JENIS_KELAMIN', 'PENGALAMAN_MENGEMUDI',\n",
       "       'PENDIDIKAN', 'PENGHASILAN', 'SKOR_KREDIT', 'PEMILIK_KENDARAAN',\n",
       "       'TAHUN_PRODUKSI', 'STATUS', 'ANAK', 'KODE_POS', 'KM_PER_TAHUN',\n",
       "       'JENIS_KENDARAAN', 'TILANG_NGEBUT', 'TILANG_MABUK',\n",
       "       'KECELAKAAN_SEBELUMNYA', 'KLAIM'],\n",
       "      dtype='object')"
      ]
     },
     "execution_count": 49,
     "metadata": {},
     "output_type": "execute_result"
    }
   ],
   "source": [
    "data.columns"
   ]
  },
  {
   "cell_type": "code",
   "execution_count": 50,
   "id": "57cef1d4",
   "metadata": {},
   "outputs": [
    {
     "data": {
      "text/plain": [
       "IDENTITAS                  int64\n",
       "UMUR                       int64\n",
       "JENIS_KELAMIN              int64\n",
       "PENGALAMAN_MENGEMUDI       int64\n",
       "PENDIDIKAN               float64\n",
       "PENGHASILAN                int64\n",
       "SKOR_KREDIT              float64\n",
       "PEMILIK_KENDARAAN          int64\n",
       "TAHUN_PRODUKSI             int64\n",
       "STATUS                     int64\n",
       "ANAK                       int64\n",
       "KODE_POS                   int64\n",
       "KM_PER_TAHUN             float64\n",
       "JENIS_KENDARAAN            int64\n",
       "TILANG_NGEBUT              int64\n",
       "TILANG_MABUK               int64\n",
       "KECELAKAAN_SEBELUMNYA      int64\n",
       "KLAIM                      int64\n",
       "dtype: object"
      ]
     },
     "execution_count": 50,
     "metadata": {},
     "output_type": "execute_result"
    }
   ],
   "source": [
    "data.dtypes"
   ]
  },
  {
   "cell_type": "code",
   "execution_count": 51,
   "id": "bfd44c77",
   "metadata": {},
   "outputs": [
    {
     "data": {
      "text/html": [
       "<div>\n",
       "<style scoped>\n",
       "    .dataframe tbody tr th:only-of-type {\n",
       "        vertical-align: middle;\n",
       "    }\n",
       "\n",
       "    .dataframe tbody tr th {\n",
       "        vertical-align: top;\n",
       "    }\n",
       "\n",
       "    .dataframe thead th {\n",
       "        text-align: right;\n",
       "    }\n",
       "</style>\n",
       "<table border=\"1\" class=\"dataframe\">\n",
       "  <thead>\n",
       "    <tr style=\"text-align: right;\">\n",
       "      <th></th>\n",
       "      <th>SKOR_KREDIT</th>\n",
       "      <th>KM_PER_TAHUN</th>\n",
       "    </tr>\n",
       "  </thead>\n",
       "  <tbody>\n",
       "    <tr>\n",
       "      <th>0</th>\n",
       "      <td>0.634374</td>\n",
       "      <td>0.50</td>\n",
       "    </tr>\n",
       "    <tr>\n",
       "      <th>1</th>\n",
       "      <td>0.335441</td>\n",
       "      <td>0.70</td>\n",
       "    </tr>\n",
       "    <tr>\n",
       "      <th>2</th>\n",
       "      <td>0.484636</td>\n",
       "      <td>0.45</td>\n",
       "    </tr>\n",
       "    <tr>\n",
       "      <th>3</th>\n",
       "      <td>0.168222</td>\n",
       "      <td>0.45</td>\n",
       "    </tr>\n",
       "    <tr>\n",
       "      <th>4</th>\n",
       "      <td>0.369171</td>\n",
       "      <td>0.50</td>\n",
       "    </tr>\n",
       "    <tr>\n",
       "      <th>5</th>\n",
       "      <td>0.623464</td>\n",
       "      <td>0.55</td>\n",
       "    </tr>\n",
       "    <tr>\n",
       "      <th>6</th>\n",
       "      <td>0.484413</td>\n",
       "      <td>0.55</td>\n",
       "    </tr>\n",
       "    <tr>\n",
       "      <th>7</th>\n",
       "      <td>0.457685</td>\n",
       "      <td>0.60</td>\n",
       "    </tr>\n",
       "    <tr>\n",
       "      <th>8</th>\n",
       "      <td>0.516229</td>\n",
       "      <td>0.55</td>\n",
       "    </tr>\n",
       "    <tr>\n",
       "      <th>9</th>\n",
       "      <td>0.559995</td>\n",
       "      <td>0.45</td>\n",
       "    </tr>\n",
       "  </tbody>\n",
       "</table>\n",
       "</div>"
      ],
      "text/plain": [
       "   SKOR_KREDIT  KM_PER_TAHUN\n",
       "0     0.634374          0.50\n",
       "1     0.335441          0.70\n",
       "2     0.484636          0.45\n",
       "3     0.168222          0.45\n",
       "4     0.369171          0.50\n",
       "5     0.623464          0.55\n",
       "6     0.484413          0.55\n",
       "7     0.457685          0.60\n",
       "8     0.516229          0.55\n",
       "9     0.559995          0.45"
      ]
     },
     "execution_count": 51,
     "metadata": {},
     "output_type": "execute_result"
    }
   ],
   "source": [
    "# Normalisasi data dalam bentuk numerik\n",
    "from sklearn import preprocessing\n",
    "\n",
    "scaler = preprocessing.MinMaxScaler()\n",
    "d = scaler.fit_transform(data[data_categorical])\n",
    "data_normalisasi = pd.DataFrame(d, columns=data[data_categorical].columns)\n",
    "data_normalisasi.head(10)"
   ]
  },
  {
   "cell_type": "code",
   "execution_count": 52,
   "id": "01b53b72",
   "metadata": {},
   "outputs": [
    {
     "data": {
      "text/html": [
       "<div>\n",
       "<style scoped>\n",
       "    .dataframe tbody tr th:only-of-type {\n",
       "        vertical-align: middle;\n",
       "    }\n",
       "\n",
       "    .dataframe tbody tr th {\n",
       "        vertical-align: top;\n",
       "    }\n",
       "\n",
       "    .dataframe thead th {\n",
       "        text-align: right;\n",
       "    }\n",
       "</style>\n",
       "<table border=\"1\" class=\"dataframe\">\n",
       "  <thead>\n",
       "    <tr style=\"text-align: right;\">\n",
       "      <th></th>\n",
       "      <th>SKOR_KREDIT</th>\n",
       "      <th>KM_PER_TAHUN</th>\n",
       "    </tr>\n",
       "  </thead>\n",
       "  <tbody>\n",
       "    <tr>\n",
       "      <th>count</th>\n",
       "      <td>9018.000000</td>\n",
       "      <td>9043.000000</td>\n",
       "    </tr>\n",
       "    <tr>\n",
       "      <th>mean</th>\n",
       "      <td>0.509614</td>\n",
       "      <td>0.484850</td>\n",
       "    </tr>\n",
       "    <tr>\n",
       "      <th>std</th>\n",
       "      <td>0.151729</td>\n",
       "      <td>0.140922</td>\n",
       "    </tr>\n",
       "    <tr>\n",
       "      <th>min</th>\n",
       "      <td>0.000000</td>\n",
       "      <td>0.000000</td>\n",
       "    </tr>\n",
       "    <tr>\n",
       "      <th>25%</th>\n",
       "      <td>0.400936</td>\n",
       "      <td>0.400000</td>\n",
       "    </tr>\n",
       "    <tr>\n",
       "      <th>50%</th>\n",
       "      <td>0.519774</td>\n",
       "      <td>0.500000</td>\n",
       "    </tr>\n",
       "    <tr>\n",
       "      <th>75%</th>\n",
       "      <td>0.622566</td>\n",
       "      <td>0.600000</td>\n",
       "    </tr>\n",
       "    <tr>\n",
       "      <th>max</th>\n",
       "      <td>1.000000</td>\n",
       "      <td>1.000000</td>\n",
       "    </tr>\n",
       "  </tbody>\n",
       "</table>\n",
       "</div>"
      ],
      "text/plain": [
       "       SKOR_KREDIT  KM_PER_TAHUN\n",
       "count  9018.000000   9043.000000\n",
       "mean      0.509614      0.484850\n",
       "std       0.151729      0.140922\n",
       "min       0.000000      0.000000\n",
       "25%       0.400936      0.400000\n",
       "50%       0.519774      0.500000\n",
       "75%       0.622566      0.600000\n",
       "max       1.000000      1.000000"
      ]
     },
     "execution_count": 52,
     "metadata": {},
     "output_type": "execute_result"
    }
   ],
   "source": [
    "data_normalisasi.describe()"
   ]
  },
  {
   "cell_type": "code",
   "execution_count": 53,
   "id": "e9ea3f77",
   "metadata": {},
   "outputs": [
    {
     "data": {
      "text/html": [
       "<div>\n",
       "<style scoped>\n",
       "    .dataframe tbody tr th:only-of-type {\n",
       "        vertical-align: middle;\n",
       "    }\n",
       "\n",
       "    .dataframe tbody tr th {\n",
       "        vertical-align: top;\n",
       "    }\n",
       "\n",
       "    .dataframe thead th {\n",
       "        text-align: right;\n",
       "    }\n",
       "</style>\n",
       "<table border=\"1\" class=\"dataframe\">\n",
       "  <thead>\n",
       "    <tr style=\"text-align: right;\">\n",
       "      <th></th>\n",
       "      <th>SKOR_KREDIT</th>\n",
       "      <th>KM_PER_TAHUN</th>\n",
       "      <th>IDENTITAS</th>\n",
       "      <th>UMUR</th>\n",
       "      <th>JENIS_KELAMIN</th>\n",
       "      <th>PENGALAMAN_MENGEMUDI</th>\n",
       "      <th>PENDIDIKAN</th>\n",
       "      <th>PENGHASILAN</th>\n",
       "      <th>PEMILIK_KENDARAAN</th>\n",
       "      <th>TAHUN_PRODUKSI</th>\n",
       "      <th>STATUS</th>\n",
       "      <th>ANAK</th>\n",
       "      <th>KODE_POS</th>\n",
       "      <th>JENIS_KENDARAAN</th>\n",
       "      <th>TILANG_NGEBUT</th>\n",
       "      <th>TILANG_MABUK</th>\n",
       "      <th>KECELAKAAN_SEBELUMNYA</th>\n",
       "      <th>KLAIM</th>\n",
       "    </tr>\n",
       "  </thead>\n",
       "  <tbody>\n",
       "    <tr>\n",
       "      <th>0</th>\n",
       "      <td>0.634374</td>\n",
       "      <td>0.50</td>\n",
       "      <td>569520</td>\n",
       "      <td>lebih dari 65 tahun</td>\n",
       "      <td>perempuan</td>\n",
       "      <td>kurang dari 10 tahun</td>\n",
       "      <td>SMA</td>\n",
       "      <td>lebih dari 3x UMR</td>\n",
       "      <td>ya</td>\n",
       "      <td>setelah 2020</td>\n",
       "      <td>belum menikah</td>\n",
       "      <td>ada</td>\n",
       "      <td>10238</td>\n",
       "      <td>keluarga</td>\n",
       "      <td>0</td>\n",
       "      <td>0</td>\n",
       "      <td>0</td>\n",
       "      <td>tidak</td>\n",
       "    </tr>\n",
       "    <tr>\n",
       "      <th>1</th>\n",
       "      <td>0.335441</td>\n",
       "      <td>0.70</td>\n",
       "      <td>750365</td>\n",
       "      <td>kurang dari 25 tahun</td>\n",
       "      <td>laki-laki</td>\n",
       "      <td>kurang dari 10 tahun</td>\n",
       "      <td>tidak ada</td>\n",
       "      <td>kurang dari UMR</td>\n",
       "      <td>tidak</td>\n",
       "      <td>sebelum 2020</td>\n",
       "      <td>belum menikah</td>\n",
       "      <td>tidak ada</td>\n",
       "      <td>10238</td>\n",
       "      <td>keluarga</td>\n",
       "      <td>0</td>\n",
       "      <td>0</td>\n",
       "      <td>0</td>\n",
       "      <td>ya</td>\n",
       "    </tr>\n",
       "    <tr>\n",
       "      <th>2</th>\n",
       "      <td>0.484636</td>\n",
       "      <td>0.45</td>\n",
       "      <td>199901</td>\n",
       "      <td>kurang dari 25 tahun</td>\n",
       "      <td>perempuan</td>\n",
       "      <td>kurang dari 10 tahun</td>\n",
       "      <td>SMA</td>\n",
       "      <td>antara 1-2x UMR</td>\n",
       "      <td>ya</td>\n",
       "      <td>sebelum 2020</td>\n",
       "      <td>belum menikah</td>\n",
       "      <td>tidak ada</td>\n",
       "      <td>10238</td>\n",
       "      <td>keluarga</td>\n",
       "      <td>0</td>\n",
       "      <td>0</td>\n",
       "      <td>0</td>\n",
       "      <td>tidak</td>\n",
       "    </tr>\n",
       "    <tr>\n",
       "      <th>3</th>\n",
       "      <td>0.168222</td>\n",
       "      <td>0.45</td>\n",
       "      <td>478866</td>\n",
       "      <td>kurang dari 25 tahun</td>\n",
       "      <td>laki-laki</td>\n",
       "      <td>kurang dari 10 tahun</td>\n",
       "      <td>universitas</td>\n",
       "      <td>antara 1-2x UMR</td>\n",
       "      <td>ya</td>\n",
       "      <td>sebelum 2020</td>\n",
       "      <td>belum menikah</td>\n",
       "      <td>ada</td>\n",
       "      <td>32765</td>\n",
       "      <td>keluarga</td>\n",
       "      <td>0</td>\n",
       "      <td>0</td>\n",
       "      <td>0</td>\n",
       "      <td>tidak</td>\n",
       "    </tr>\n",
       "    <tr>\n",
       "      <th>4</th>\n",
       "      <td>0.369171</td>\n",
       "      <td>0.50</td>\n",
       "      <td>731664</td>\n",
       "      <td>antara 25-40 tahun</td>\n",
       "      <td>laki-laki</td>\n",
       "      <td>antara 10-20 tahun</td>\n",
       "      <td>tidak ada</td>\n",
       "      <td>antara 1-2x UMR</td>\n",
       "      <td>ya</td>\n",
       "      <td>sebelum 2020</td>\n",
       "      <td>belum menikah</td>\n",
       "      <td>tidak ada</td>\n",
       "      <td>32765</td>\n",
       "      <td>keluarga</td>\n",
       "      <td>2</td>\n",
       "      <td>0</td>\n",
       "      <td>1</td>\n",
       "      <td>ya</td>\n",
       "    </tr>\n",
       "  </tbody>\n",
       "</table>\n",
       "</div>"
      ],
      "text/plain": [
       "   SKOR_KREDIT  KM_PER_TAHUN  IDENTITAS                  UMUR JENIS_KELAMIN  \\\n",
       "0     0.634374          0.50     569520   lebih dari 65 tahun     perempuan   \n",
       "1     0.335441          0.70     750365  kurang dari 25 tahun     laki-laki   \n",
       "2     0.484636          0.45     199901  kurang dari 25 tahun     perempuan   \n",
       "3     0.168222          0.45     478866  kurang dari 25 tahun     laki-laki   \n",
       "4     0.369171          0.50     731664    antara 25-40 tahun     laki-laki   \n",
       "\n",
       "   PENGALAMAN_MENGEMUDI   PENDIDIKAN        PENGHASILAN PEMILIK_KENDARAAN  \\\n",
       "0  kurang dari 10 tahun          SMA  lebih dari 3x UMR                ya   \n",
       "1  kurang dari 10 tahun    tidak ada    kurang dari UMR             tidak   \n",
       "2  kurang dari 10 tahun          SMA    antara 1-2x UMR                ya   \n",
       "3  kurang dari 10 tahun  universitas    antara 1-2x UMR                ya   \n",
       "4    antara 10-20 tahun    tidak ada    antara 1-2x UMR                ya   \n",
       "\n",
       "  TAHUN_PRODUKSI         STATUS       ANAK  KODE_POS JENIS_KENDARAAN  \\\n",
       "0   setelah 2020  belum menikah        ada     10238        keluarga   \n",
       "1   sebelum 2020  belum menikah  tidak ada     10238        keluarga   \n",
       "2   sebelum 2020  belum menikah  tidak ada     10238        keluarga   \n",
       "3   sebelum 2020  belum menikah        ada     32765        keluarga   \n",
       "4   sebelum 2020  belum menikah  tidak ada     32765        keluarga   \n",
       "\n",
       "   TILANG_NGEBUT  TILANG_MABUK  KECELAKAAN_SEBELUMNYA  KLAIM  \n",
       "0              0             0                      0  tidak  \n",
       "1              0             0                      0     ya  \n",
       "2              0             0                      0  tidak  \n",
       "3              0             0                      0  tidak  \n",
       "4              2             0                      1     ya  "
      ]
     },
     "execution_count": 53,
     "metadata": {},
     "output_type": "execute_result"
    }
   ],
   "source": [
    "data_fix = pd.concat([data_normalisasi, data_drop], axis=1, join='inner')\n",
    "data_fix.head()"
   ]
  },
  {
   "cell_type": "code",
   "execution_count": 54,
   "id": "f27c5fe5",
   "metadata": {},
   "outputs": [],
   "source": [
    "X = data_fix.drop(['KLAIM'], axis =1) \n",
    "y = data_fix['KLAIM']"
   ]
  },
  {
   "cell_type": "code",
   "execution_count": null,
   "id": "1a74feb8",
   "metadata": {},
   "outputs": [],
   "source": []
  },
  {
   "cell_type": "code",
   "execution_count": null,
   "id": "96dc5be0",
   "metadata": {},
   "outputs": [],
   "source": []
  }
 ],
 "metadata": {
  "kernelspec": {
   "display_name": "Python 3 (ipykernel)",
   "language": "python",
   "name": "python3"
  },
  "language_info": {
   "codemirror_mode": {
    "name": "ipython",
    "version": 3
   },
   "file_extension": ".py",
   "mimetype": "text/x-python",
   "name": "python",
   "nbconvert_exporter": "python",
   "pygments_lexer": "ipython3",
   "version": "3.9.13"
  }
 },
 "nbformat": 4,
 "nbformat_minor": 5
}
